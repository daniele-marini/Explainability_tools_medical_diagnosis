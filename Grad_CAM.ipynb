{
  "nbformat": 4,
  "nbformat_minor": 0,
  "metadata": {
    "colab": {
      "provenance": [],
      "collapsed_sections": [
        "LsIFa5x608e5",
        "Rs178wNJ1xxb",
        "8KMLX4NH3xlk",
        "CKhoOcnd33CF",
        "sFGqW4kHXrIn"
      ]
    },
    "kernelspec": {
      "name": "python3",
      "display_name": "Python 3"
    },
    "language_info": {
      "name": "python"
    }
  },
  "cells": [
    {
      "cell_type": "markdown",
      "source": [
        "# Import of the libraries"
      ],
      "metadata": {
        "id": "LsIFa5x608e5"
      }
    },
    {
      "cell_type": "code",
      "source": [
        "import numpy as np\n",
        "import tensorflow as tf\n",
        "from tensorflow import keras\n",
        "from tensorflow.keras.applications import ResNet50\n",
        "from tensorflow.keras.layers import Dense,GlobalAveragePooling2D\n",
        "from tensorflow.keras import Model\n",
        "import os\n",
        "import pandas as pd\n",
        "from keras.preprocessing.image import ImageDataGenerator\n",
        "\n",
        "\n",
        "from keras.models import load_model\n",
        "\n",
        "from IPython.display import Image, display\n",
        "import matplotlib.pyplot as plt\n",
        "import matplotlib.cm as cm"
      ],
      "metadata": {
        "id": "AG9H2LA409Rp"
      },
      "execution_count": null,
      "outputs": []
    },
    {
      "cell_type": "markdown",
      "source": [
        "# Import of the dataset"
      ],
      "metadata": {
        "id": "Rs178wNJ1xxb"
      }
    },
    {
      "cell_type": "markdown",
      "source": [
        "In order to import the dataset directly from kaggle we have to create **and** import the kaggle.json key first"
      ],
      "metadata": {
        "id": "C2ko9lA010IU"
      }
    },
    {
      "cell_type": "code",
      "source": [
        "!pip -qq install kaggle"
      ],
      "metadata": {
        "id": "ykln38131zTE"
      },
      "execution_count": null,
      "outputs": []
    },
    {
      "cell_type": "code",
      "source": [
        "!mkdir ~/.kaggle"
      ],
      "metadata": {
        "id": "_FmXHby-28Az"
      },
      "execution_count": null,
      "outputs": []
    },
    {
      "cell_type": "code",
      "source": [
        "!cp kaggle.json ~/.kaggle/\n",
        "!chmod 600 ~/.kaggle/kaggle.json"
      ],
      "metadata": {
        "id": "_tt6Dn3127-u"
      },
      "execution_count": null,
      "outputs": []
    },
    {
      "cell_type": "markdown",
      "source": [
        "I will use the brain tumor classification dataset for the fine-tuning"
      ],
      "metadata": {
        "id": "9qLt6zAl3B2O"
      }
    },
    {
      "cell_type": "code",
      "source": [
        "!kaggle datasets download navoneel/brain-mri-images-for-brain-tumor-detection"
      ],
      "metadata": {
        "id": "kg6FTYKX278Y",
        "colab": {
          "base_uri": "https://localhost:8080/"
        },
        "outputId": "c67a5227-1fde-49f3-e21c-4b28754caa0d"
      },
      "execution_count": null,
      "outputs": [
        {
          "output_type": "stream",
          "name": "stdout",
          "text": [
            "Downloading brain-mri-images-for-brain-tumor-detection.zip to /content\n",
            " 99% 15.0M/15.1M [00:00<00:00, 25.1MB/s]\n",
            "100% 15.1M/15.1M [00:00<00:00, 15.9MB/s]\n"
          ]
        }
      ]
    },
    {
      "cell_type": "code",
      "source": [
        "!unzip -qq brain-mri-images-for-brain-tumor-detection.zip"
      ],
      "metadata": {
        "id": "dTFVtGswXW7N"
      },
      "execution_count": null,
      "outputs": []
    },
    {
      "cell_type": "markdown",
      "source": [
        "# Dataset creation"
      ],
      "metadata": {
        "id": "8KMLX4NH3xlk"
      }
    },
    {
      "cell_type": "code",
      "source": [
        "# Set the path to the directory containing the images\n",
        "data_dir = '/content'\n",
        "\n",
        "# Get a list of all the image filenames in the directories\n",
        "yes_files = os.listdir(os.path.join(data_dir, 'yes'))\n",
        "no_files = os.listdir(os.path.join(data_dir, 'no'))\n",
        "\n",
        "# Create a list of dictionaries, where each dictionary contains the image filename, its path, and its label\n",
        "data_list = []\n",
        "for filename in yes_files:\n",
        "    data_list.append({'path': os.path.join(data_dir, 'yes', filename), 'label': 'yes'})\n",
        "for filename in no_files:\n",
        "    data_list.append({'path': os.path.join(data_dir, 'no', filename), 'label': 'no'})\n",
        "\n",
        "# Create a DataFrame from the list of dictionaries\n",
        "df = pd.DataFrame(data_list).sample(frac=1, random_state=42)\n",
        "\n",
        "df.head()"
      ],
      "metadata": {
        "id": "-pNvPP-P276D",
        "colab": {
          "base_uri": "https://localhost:8080/",
          "height": 206
        },
        "outputId": "0f043dd7-4170-404c-b4cc-2daedf6610db"
      },
      "execution_count": null,
      "outputs": [
        {
          "output_type": "execute_result",
          "data": {
            "text/plain": [
              "                      path label\n",
              "208  /content/no/46 no.jpg    no\n",
              "6      /content/yes/Y4.jpg   yes\n",
              "79    /content/yes/Y34.jpg   yes\n",
              "204    /content/no/N16.jpg    no\n",
              "117  /content/yes/Y168.jpg   yes"
            ],
            "text/html": [
              "\n",
              "  <div id=\"df-350f49e7-cba6-434a-9632-4c7204498ee5\">\n",
              "    <div class=\"colab-df-container\">\n",
              "      <div>\n",
              "<style scoped>\n",
              "    .dataframe tbody tr th:only-of-type {\n",
              "        vertical-align: middle;\n",
              "    }\n",
              "\n",
              "    .dataframe tbody tr th {\n",
              "        vertical-align: top;\n",
              "    }\n",
              "\n",
              "    .dataframe thead th {\n",
              "        text-align: right;\n",
              "    }\n",
              "</style>\n",
              "<table border=\"1\" class=\"dataframe\">\n",
              "  <thead>\n",
              "    <tr style=\"text-align: right;\">\n",
              "      <th></th>\n",
              "      <th>path</th>\n",
              "      <th>label</th>\n",
              "    </tr>\n",
              "  </thead>\n",
              "  <tbody>\n",
              "    <tr>\n",
              "      <th>208</th>\n",
              "      <td>/content/no/46 no.jpg</td>\n",
              "      <td>no</td>\n",
              "    </tr>\n",
              "    <tr>\n",
              "      <th>6</th>\n",
              "      <td>/content/yes/Y4.jpg</td>\n",
              "      <td>yes</td>\n",
              "    </tr>\n",
              "    <tr>\n",
              "      <th>79</th>\n",
              "      <td>/content/yes/Y34.jpg</td>\n",
              "      <td>yes</td>\n",
              "    </tr>\n",
              "    <tr>\n",
              "      <th>204</th>\n",
              "      <td>/content/no/N16.jpg</td>\n",
              "      <td>no</td>\n",
              "    </tr>\n",
              "    <tr>\n",
              "      <th>117</th>\n",
              "      <td>/content/yes/Y168.jpg</td>\n",
              "      <td>yes</td>\n",
              "    </tr>\n",
              "  </tbody>\n",
              "</table>\n",
              "</div>\n",
              "      <button class=\"colab-df-convert\" onclick=\"convertToInteractive('df-350f49e7-cba6-434a-9632-4c7204498ee5')\"\n",
              "              title=\"Convert this dataframe to an interactive table.\"\n",
              "              style=\"display:none;\">\n",
              "        \n",
              "  <svg xmlns=\"http://www.w3.org/2000/svg\" height=\"24px\"viewBox=\"0 0 24 24\"\n",
              "       width=\"24px\">\n",
              "    <path d=\"M0 0h24v24H0V0z\" fill=\"none\"/>\n",
              "    <path d=\"M18.56 5.44l.94 2.06.94-2.06 2.06-.94-2.06-.94-.94-2.06-.94 2.06-2.06.94zm-11 1L8.5 8.5l.94-2.06 2.06-.94-2.06-.94L8.5 2.5l-.94 2.06-2.06.94zm10 10l.94 2.06.94-2.06 2.06-.94-2.06-.94-.94-2.06-.94 2.06-2.06.94z\"/><path d=\"M17.41 7.96l-1.37-1.37c-.4-.4-.92-.59-1.43-.59-.52 0-1.04.2-1.43.59L10.3 9.45l-7.72 7.72c-.78.78-.78 2.05 0 2.83L4 21.41c.39.39.9.59 1.41.59.51 0 1.02-.2 1.41-.59l7.78-7.78 2.81-2.81c.8-.78.8-2.07 0-2.86zM5.41 20L4 18.59l7.72-7.72 1.47 1.35L5.41 20z\"/>\n",
              "  </svg>\n",
              "      </button>\n",
              "      \n",
              "  <style>\n",
              "    .colab-df-container {\n",
              "      display:flex;\n",
              "      flex-wrap:wrap;\n",
              "      gap: 12px;\n",
              "    }\n",
              "\n",
              "    .colab-df-convert {\n",
              "      background-color: #E8F0FE;\n",
              "      border: none;\n",
              "      border-radius: 50%;\n",
              "      cursor: pointer;\n",
              "      display: none;\n",
              "      fill: #1967D2;\n",
              "      height: 32px;\n",
              "      padding: 0 0 0 0;\n",
              "      width: 32px;\n",
              "    }\n",
              "\n",
              "    .colab-df-convert:hover {\n",
              "      background-color: #E2EBFA;\n",
              "      box-shadow: 0px 1px 2px rgba(60, 64, 67, 0.3), 0px 1px 3px 1px rgba(60, 64, 67, 0.15);\n",
              "      fill: #174EA6;\n",
              "    }\n",
              "\n",
              "    [theme=dark] .colab-df-convert {\n",
              "      background-color: #3B4455;\n",
              "      fill: #D2E3FC;\n",
              "    }\n",
              "\n",
              "    [theme=dark] .colab-df-convert:hover {\n",
              "      background-color: #434B5C;\n",
              "      box-shadow: 0px 1px 3px 1px rgba(0, 0, 0, 0.15);\n",
              "      filter: drop-shadow(0px 1px 2px rgba(0, 0, 0, 0.3));\n",
              "      fill: #FFFFFF;\n",
              "    }\n",
              "  </style>\n",
              "\n",
              "      <script>\n",
              "        const buttonEl =\n",
              "          document.querySelector('#df-350f49e7-cba6-434a-9632-4c7204498ee5 button.colab-df-convert');\n",
              "        buttonEl.style.display =\n",
              "          google.colab.kernel.accessAllowed ? 'block' : 'none';\n",
              "\n",
              "        async function convertToInteractive(key) {\n",
              "          const element = document.querySelector('#df-350f49e7-cba6-434a-9632-4c7204498ee5');\n",
              "          const dataTable =\n",
              "            await google.colab.kernel.invokeFunction('convertToInteractive',\n",
              "                                                     [key], {});\n",
              "          if (!dataTable) return;\n",
              "\n",
              "          const docLinkHtml = 'Like what you see? Visit the ' +\n",
              "            '<a target=\"_blank\" href=https://colab.research.google.com/notebooks/data_table.ipynb>data table notebook</a>'\n",
              "            + ' to learn more about interactive tables.';\n",
              "          element.innerHTML = '';\n",
              "          dataTable['output_type'] = 'display_data';\n",
              "          await google.colab.output.renderOutput(dataTable, element);\n",
              "          const docLink = document.createElement('div');\n",
              "          docLink.innerHTML = docLinkHtml;\n",
              "          element.appendChild(docLink);\n",
              "        }\n",
              "      </script>\n",
              "    </div>\n",
              "  </div>\n",
              "  "
            ]
          },
          "metadata": {},
          "execution_count": 9
        }
      ]
    },
    {
      "cell_type": "code",
      "source": [
        "train_df=df[:200]\n",
        "val_df=df[200:253]"
      ],
      "metadata": {
        "id": "_6TqTxEw273s"
      },
      "execution_count": null,
      "outputs": []
    },
    {
      "cell_type": "code",
      "source": [
        "datagen = ImageDataGenerator()\n",
        "\n",
        "train_ds = datagen.flow_from_dataframe(\n",
        "    dataframe=train_df,\n",
        "    x_col=\"path\",\n",
        "    y_col=\"label\",\n",
        "    target_size=(224, 224),\n",
        "    batch_size=4,\n",
        "    class_mode='binary'\n",
        ")\n",
        "\n",
        "val_ds = datagen.flow_from_dataframe(\n",
        "    dataframe=val_df,\n",
        "    x_col=\"path\",\n",
        "    y_col=\"label\",\n",
        "    target_size=(224, 224),\n",
        "    batch_size=4,\n",
        "    class_mode='binary'\n",
        ")"
      ],
      "metadata": {
        "id": "JecUUSzg271P",
        "colab": {
          "base_uri": "https://localhost:8080/"
        },
        "outputId": "623516d1-87d4-4782-a8d1-fe275de7f2c7"
      },
      "execution_count": null,
      "outputs": [
        {
          "output_type": "stream",
          "name": "stdout",
          "text": [
            "Found 200 validated image filenames belonging to 2 classes.\n",
            "Found 53 validated image filenames belonging to 2 classes.\n"
          ]
        }
      ]
    },
    {
      "cell_type": "markdown",
      "source": [
        "# Fine Tuning"
      ],
      "metadata": {
        "id": "CKhoOcnd33CF"
      }
    },
    {
      "cell_type": "markdown",
      "source": [
        "For the task I fine tuned ResNet50 on the new dataset\n"
      ],
      "metadata": {
        "id": "IcI58QYXWGhE"
      }
    },
    {
      "cell_type": "code",
      "source": [
        "# load pre-trained ResNet50 model\n",
        "base_model = ResNet50(weights='imagenet', include_top=False, input_shape=(224, 224, 3))\n",
        "\n",
        "# add new classification layer\n",
        "# After many trials we obtained the best results with this classification head\n",
        "base = base_model.output\n",
        "gp = GlobalAveragePooling2D()(base)\n",
        "dense_1 = Dense(1024, activation='relu')(gp)\n",
        "dense_2 = Dense(512, activation='relu')(dense_1)\n",
        "predictions = Dense(1, activation='sigmoid')(dense_2)"
      ],
      "metadata": {
        "id": "iQwnETuc31hM",
        "colab": {
          "base_uri": "https://localhost:8080/"
        },
        "outputId": "8bc50fd7-7a28-4779-f9c6-6a51a2276230"
      },
      "execution_count": null,
      "outputs": [
        {
          "output_type": "stream",
          "name": "stdout",
          "text": [
            "Downloading data from https://storage.googleapis.com/tensorflow/keras-applications/resnet/resnet50_weights_tf_dim_ordering_tf_kernels_notop.h5\n",
            "94765736/94765736 [==============================] - 3s 0us/step\n"
          ]
        }
      ]
    },
    {
      "cell_type": "code",
      "source": [
        "model = Model(inputs=base_model.input, outputs=predictions)\n",
        "\n",
        "# freeze ResNet50 layers to prevent re-training\n",
        "for layer in base_model.layers:\n",
        "    layer.trainable = False"
      ],
      "metadata": {
        "id": "vpJlM-m631fK"
      },
      "execution_count": null,
      "outputs": []
    },
    {
      "cell_type": "code",
      "source": [
        "my_callbacks = [\n",
        "    tf.keras.callbacks.EarlyStopping(patience=3),\n",
        "]"
      ],
      "metadata": {
        "id": "KBoawsgg31c0"
      },
      "execution_count": null,
      "outputs": []
    },
    {
      "cell_type": "code",
      "source": [
        "model.compile(optimizer=keras.optimizers.Adam(),\n",
        "              loss=keras.losses.BinaryCrossentropy(from_logits=True),\n",
        "              metrics=[keras.metrics.BinaryAccuracy()])"
      ],
      "metadata": {
        "id": "W0LemRr831as"
      },
      "execution_count": null,
      "outputs": []
    },
    {
      "cell_type": "code",
      "source": [
        "model.fit(train_ds, epochs=15,\n",
        "          callbacks=my_callbacks, \n",
        "          validation_data=val_ds)"
      ],
      "metadata": {
        "colab": {
          "base_uri": "https://localhost:8080/"
        },
        "id": "mwrma9VJaRJi",
        "outputId": "e58228ef-0da0-4235-ef5f-b61578fe51be"
      },
      "execution_count": null,
      "outputs": [
        {
          "output_type": "stream",
          "name": "stdout",
          "text": [
            "Epoch 1/15\n"
          ]
        },
        {
          "output_type": "stream",
          "name": "stderr",
          "text": [
            "/usr/local/lib/python3.10/dist-packages/keras/backend.py:5703: UserWarning: \"`binary_crossentropy` received `from_logits=True`, but the `output` argument was produced by a Sigmoid activation and thus does not represent logits. Was this intended?\n",
            "  output, from_logits = _get_logits(\n"
          ]
        },
        {
          "output_type": "stream",
          "name": "stdout",
          "text": [
            "50/50 [==============================] - 9s 76ms/step - loss: 0.9637 - binary_accuracy: 0.6700 - val_loss: 0.5306 - val_binary_accuracy: 0.7170\n",
            "Epoch 2/15\n",
            "50/50 [==============================] - 2s 49ms/step - loss: 0.2996 - binary_accuracy: 0.8750 - val_loss: 0.3321 - val_binary_accuracy: 0.8868\n",
            "Epoch 3/15\n",
            "50/50 [==============================] - 3s 55ms/step - loss: 0.2317 - binary_accuracy: 0.8950 - val_loss: 0.6761 - val_binary_accuracy: 0.7547\n",
            "Epoch 4/15\n",
            "50/50 [==============================] - 3s 54ms/step - loss: 0.1449 - binary_accuracy: 0.9350 - val_loss: 0.4143 - val_binary_accuracy: 0.8868\n",
            "Epoch 5/15\n",
            "50/50 [==============================] - 2s 32ms/step - loss: 0.0946 - binary_accuracy: 0.9600 - val_loss: 0.3775 - val_binary_accuracy: 0.9245\n"
          ]
        },
        {
          "output_type": "execute_result",
          "data": {
            "text/plain": [
              "<keras.callbacks.History at 0x7f39f90a8640>"
            ]
          },
          "metadata": {},
          "execution_count": 54
        }
      ]
    },
    {
      "cell_type": "markdown",
      "source": [
        "# Save the model"
      ],
      "metadata": {
        "id": "sFGqW4kHXrIn"
      }
    },
    {
      "cell_type": "code",
      "source": [
        "# Mount Google Drive\n",
        "from google.colab import drive\n",
        "drive.mount('/content/drive')\n",
        "\n",
        "# Save the model to Google Drive\n",
        "#model.save('/content/drive/MyDrive/ML4CV_models/brain_binary.h5')"
      ],
      "metadata": {
        "id": "1tSqhwrz31VP"
      },
      "execution_count": null,
      "outputs": []
    },
    {
      "cell_type": "markdown",
      "source": [
        "# Grad-CAM"
      ],
      "metadata": {
        "id": "wxCbP_ZEYIMU"
      }
    },
    {
      "cell_type": "markdown",
      "metadata": {
        "id": "m3LkOsHWL0uB"
      },
      "source": [
        "## Import of the model"
      ]
    },
    {
      "cell_type": "markdown",
      "metadata": {
        "id": "yUCkaschqlp2"
      },
      "source": [
        "The model has been already fine tuned on Brain Tumore classification and can be loaded throught the following commands"
      ]
    },
    {
      "cell_type": "code",
      "execution_count": null,
      "metadata": {
        "colab": {
          "base_uri": "https://localhost:8080/"
        },
        "id": "zQoliU1UL0TB",
        "outputId": "8aa99401-d7d1-4d04-de60-b873b16fa536"
      },
      "outputs": [
        {
          "output_type": "stream",
          "name": "stdout",
          "text": [
            "Downloading...\n",
            "From: https://drive.google.com/uc?id=1TMSBaroQmTO3L9l8tiDHEkSfjN8mrw8K\n",
            "To: /content/brain_binary.h5\n",
            "100% 126M/126M [00:01<00:00, 103MB/s]\n"
          ]
        }
      ],
      "source": [
        "!gdown 1TMSBaroQmTO3L9l8tiDHEkSfjN8mrw8K"
      ]
    },
    {
      "cell_type": "code",
      "execution_count": null,
      "metadata": {
        "id": "QjgQzDzKNmfa"
      },
      "outputs": [],
      "source": [
        "model_path='/content/brain_binary.h5'"
      ]
    },
    {
      "cell_type": "code",
      "execution_count": null,
      "metadata": {
        "id": "EJnpPlAnjVTh"
      },
      "outputs": [],
      "source": [
        "model = load_model(model_path)"
      ]
    },
    {
      "cell_type": "code",
      "execution_count": null,
      "metadata": {
        "id": "Hsq1vKNJs4pp"
      },
      "outputs": [],
      "source": [
        "#model.summary()"
      ]
    },
    {
      "cell_type": "markdown",
      "metadata": {
        "id": "m43bMBjbrM1I"
      },
      "source": [
        "You can apply Grad-CAM on any CNN as long as it has been implemented using keras."
      ]
    },
    {
      "cell_type": "markdown",
      "metadata": {
        "id": "wO0IK2P9sE-X"
      },
      "source": [
        "For this experiment we will use a model for binary classification but feel free to speriment with different tasks"
      ]
    },
    {
      "cell_type": "markdown",
      "metadata": {
        "id": "Q9GKt9CYxIyQ"
      },
      "source": [
        "## Grad-CAM application"
      ]
    },
    {
      "cell_type": "code",
      "execution_count": null,
      "metadata": {
        "colab": {
          "base_uri": "https://localhost:8080/"
        },
        "id": "GQhwr61V-K__",
        "outputId": "9b4467ee-3275-4fd0-e38c-57bdf4e9dbfd"
      },
      "outputs": [
        {
          "output_type": "stream",
          "name": "stdout",
          "text": [
            "Downloading...\n",
            "From: https://drive.google.com/uc?id=1Ws4BUtOelM-E3X-BqTDejN3LzBU0AMtK\n",
            "To: /content/brain_center.jpeg\n",
            "\r  0% 0.00/26.8k [00:00<?, ?B/s]\r100% 26.8k/26.8k [00:00<00:00, 54.8MB/s]\n"
          ]
        }
      ],
      "source": [
        "!gdown 1Ws4BUtOelM-E3X-BqTDejN3LzBU0AMtK"
      ]
    },
    {
      "cell_type": "code",
      "execution_count": null,
      "metadata": {
        "colab": {
          "base_uri": "https://localhost:8080/",
          "height": 359
        },
        "id": "RWQ8AVYgjqlx",
        "outputId": "b9e13f2d-68a9-4ec6-d69e-297835006fd0"
      },
      "outputs": [
        {
          "output_type": "display_data",
          "data": {
            "image/jpeg": "[encoded data removed]",
            "text/plain": [
              "<IPython.core.display.Image object>"
            ]
          },
          "metadata": {}
        }
      ],
      "source": [
        "img_path = 'brain_center.jpeg'\n",
        "\n",
        "display(Image(img_path))"
      ]
    },
    {
      "cell_type": "code",
      "execution_count": null,
      "metadata": {
        "id": "hwSRdh-Dq-rI"
      },
      "outputs": [],
      "source": [
        "preprocess_input = keras.applications.resnet50.preprocess_input"
      ]
    },
    {
      "cell_type": "code",
      "execution_count": null,
      "metadata": {
        "id": "1RZYhqqlx0RK"
      },
      "outputs": [],
      "source": [
        "def get_img_array(img_path, size):\n",
        "    # `img` is a PIL image of size 224x224\n",
        "    img = keras.preprocessing.image.load_img(img_path, target_size=size)\n",
        "    # `array` is a float32 Numpy array of shape (224, 224, 3)\n",
        "    array = keras.preprocessing.image.img_to_array(img)\n",
        "    # We add a dimension to transform our array into a \"batch\"\n",
        "    # of size (1, 224, 224, 3)\n",
        "    array = np.expand_dims(array, axis=0)\n",
        "    return array\n",
        "\n",
        "\n",
        "def make_gradcam_heatmap(img_array, model, last_conv_layer_name, pred_index=None):\n",
        "    # First, we create a model that maps the input image to the activations\n",
        "    # of the last conv layer as well as the output predictions\n",
        "    grad_model = tf.keras.models.Model(\n",
        "        [model.inputs], [model.get_layer(last_conv_layer_name).output, model.output]\n",
        "    )\n",
        "\n",
        "    # Then, we compute the gradient of the top predicted class for our input image\n",
        "    # with respect to the activations of the last conv layer\n",
        "    with tf.GradientTape() as tape:\n",
        "        last_conv_layer_output, preds = grad_model(img_array)\n",
        "        if pred_index is None:\n",
        "            pred_index = tf.argmax(preds[0])\n",
        "        class_channel = preds[:, pred_index]\n",
        "\n",
        "    # This is the gradient of the output neuron (top predicted or chosen)\n",
        "    # with regard to the output feature map of the last conv layer\n",
        "    grads = tape.gradient(class_channel, last_conv_layer_output)\n",
        "\n",
        "    # This is a vector where each entry is the mean intensity of the gradient\n",
        "    # over a specific feature map channel\n",
        "    pooled_grads = tf.reduce_mean(grads, axis=(0, 1, 2))\n",
        "\n",
        "    # We multiply each channel in the feature map array\n",
        "    # by \"how important this channel is\" with regard to the top predicted class\n",
        "    # then sum all the channels to obtain the heatmap class activation\n",
        "    last_conv_layer_output = last_conv_layer_output[0]\n",
        "    heatmap = last_conv_layer_output @ pooled_grads[..., tf.newaxis]\n",
        "    heatmap = tf.squeeze(heatmap)\n",
        "\n",
        "    # For visualization purpose, we will also normalize the heatmap between 0 & 1\n",
        "    heatmap = tf.maximum(heatmap, 0) / tf.math.reduce_max(heatmap)\n",
        "    return heatmap.numpy()"
      ]
    },
    {
      "cell_type": "markdown",
      "metadata": {
        "id": "i9XmHXlrs_Tr"
      },
      "source": [
        "The following configuration is ad hoc for our model:\n",
        "\n",
        "\n",
        "* **img_size** ->  depends on the size of the images with which the model was trained (e.g. (224,224) for ResNet50)\n",
        "* **last_conv_layer_name** -> depends on the architecture of the model, you can find the name of the last convolutional layer of you model looking into the `model.summary()`\n",
        "* **pred_index** -> specify the class I want the explanation of. In our case, since it's a binary classification we can only have 0 but with more classes you can specify it. By default it will be set to the majority class evaluated by the model.\n",
        "This index can be usefull if we have more subjects in the same image, for example if we have a dog and a cat in the same image we can create the heatmap w.r.t to the dog class or w.r.t the cat class\n",
        "\n",
        "\n",
        "\n",
        "\n"
      ]
    },
    {
      "cell_type": "code",
      "execution_count": null,
      "metadata": {
        "colab": {
          "base_uri": "https://localhost:8080/",
          "height": 409
        },
        "id": "D65SmfD8x2It",
        "outputId": "90b550ea-732a-457a-b143-11a68a3fc78d"
      },
      "outputs": [
        {
          "output_type": "display_data",
          "data": {
            "text/plain": [
              "<Figure size 480x480 with 1 Axes>"
            ],
            "image/png": "[encoded data removed]"
          },
          "metadata": {}
        }
      ],
      "source": [
        "# Prepare image\n",
        "img_size = (224, 224)\n",
        "img_array = preprocess_input(get_img_array(img_path, size=img_size))\n",
        "\n",
        "# Remove last layer's softmax\n",
        "model.layers[-1].activation = None\n",
        "\n",
        "# Generate class activation heatmap\n",
        "last_conv_layer_name = \"conv5_block3_out\"\n",
        "\n",
        "heatmap = make_gradcam_heatmap(img_array, model, last_conv_layer_name, pred_index=0)\n",
        "\n",
        "# Display heatmap\n",
        "plt.matshow(heatmap)\n",
        "plt.axis('off')\n",
        "plt.show()"
      ]
    },
    {
      "cell_type": "markdown",
      "metadata": {
        "id": "OPcUCIsc14hC"
      },
      "source": [
        "Finally we combine the initial image with the heatmap in order to have a more comprehensive visual explanation\n",
        "\n",
        "* `alpha` is a parameter that controls the blending of the heatmap with the original image during the superimposition process. The higher is alpha the higher will be the contrast.\n",
        "\n"
      ]
    },
    {
      "cell_type": "code",
      "execution_count": null,
      "metadata": {
        "colab": {
          "base_uri": "https://localhost:8080/",
          "height": 415
        },
        "id": "JyiCkEm7x5_D",
        "outputId": "a53c3765-5052-4eaa-96a6-274dd1ddc2c7"
      },
      "outputs": [
        {
          "output_type": "stream",
          "name": "stderr",
          "text": [
            "<ipython-input-55-da88a0bc1c6e>:10: MatplotlibDeprecationWarning: The get_cmap function was deprecated in Matplotlib 3.7 and will be removed two minor releases later. Use ``matplotlib.colormaps[name]`` or ``matplotlib.colormaps.get_cmap(obj)`` instead.\n",
            "  jet = cm.get_cmap(\"jet\")\n"
          ]
        },
        {
          "output_type": "display_data",
          "data": {
            "image/jpeg": "[encoded data removed]",
            "text/plain": [
              "<IPython.core.display.Image object>"
            ]
          },
          "metadata": {}
        }
      ],
      "source": [
        "def save_and_display_gradcam(img_path, heatmap, cam_path=\"cam.jpg\", alpha=2):\n",
        "    # Load the original image\n",
        "    img = keras.preprocessing.image.load_img(img_path)\n",
        "    img = keras.preprocessing.image.img_to_array(img)\n",
        "\n",
        "    # Rescale heatmap to a range 0-255\n",
        "    heatmap = np.uint8(255 * heatmap)\n",
        "\n",
        "    # Use jet colormap to colorize heatmap\n",
        "    jet = cm.get_cmap(\"jet\")\n",
        "\n",
        "    # Use RGB values of the colormap\n",
        "    jet_colors = jet(np.arange(256))[:, :3]\n",
        "    jet_heatmap = jet_colors[heatmap]\n",
        "\n",
        "    # Create an image with RGB colorized heatmap\n",
        "    jet_heatmap = keras.preprocessing.image.array_to_img(jet_heatmap)\n",
        "    jet_heatmap = jet_heatmap.resize((img.shape[1], img.shape[0]))\n",
        "    jet_heatmap = keras.preprocessing.image.img_to_array(jet_heatmap)\n",
        "\n",
        "    # Superimpose the heatmap on original image\n",
        "    superimposed_img = jet_heatmap * alpha + img\n",
        "    superimposed_img = keras.preprocessing.image.array_to_img(superimposed_img)\n",
        "\n",
        "    # Save the superimposed image\n",
        "    superimposed_img.save(cam_path)\n",
        "\n",
        "    # Display Grad CAM\n",
        "    display(Image(cam_path))\n",
        "\n",
        "\n",
        "save_and_display_gradcam(img_path, heatmap)"
      ]
    },
    {
      "cell_type": "markdown",
      "source": [
        "# Conclusion"
      ],
      "metadata": {
        "id": "Ow2K8xD4ZJRJ"
      }
    },
    {
      "cell_type": "markdown",
      "source": [
        "As we can see the results are satisfactory and Grad-CAM has shown really good localization ability.\n",
        "\n",
        "Another interesting thing we noticed is that the same technique applied to a model with a lower perfomance (80% of accuracy instead of 92% on validation set) has way worse perfomances. \n",
        "\n",
        "From this we can infer that achieving high performance models is crucial for accurate tumor localization and that the there is a strong dependence between the model ability of the technique and the perfomances of the model"
      ],
      "metadata": {
        "id": "SGm5921mZLcd"
      }
    }
  ]
}